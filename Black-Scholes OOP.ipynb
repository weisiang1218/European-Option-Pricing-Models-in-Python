{
 "cells": [
  {
   "cell_type": "markdown",
   "id": "7878040c-62d4-45ab-932b-f113e5b33b29",
   "metadata": {},
   "source": [
    "<font size=\"5\"><b>Black-Scholes Model in Python</b></font>\n",
    "\n",
    "This project implements the **Black-Scholes European Option Pricing Model** using Object-Oriented Programming (OOP)."
   ]
  },
  {
   "cell_type": "code",
   "execution_count": null,
   "id": "9c66ad60-d0a2-432c-8990-c87b644e3c96",
   "metadata": {},
   "outputs": [],
   "source": [
    "import numpy as np\n",
    "from scipy.stats import norm"
   ]
  },
  {
   "cell_type": "markdown",
   "id": "40da51ad-0a9c-442d-9a90-eb88d007f04a",
   "metadata": {},
   "source": [
    "**\"OptionPricer\"** is a parent class used to define common attributes and methods for option pricing:\n",
    "\n",
    "**Attributes:**\n",
    "1. \"S\": current price of the underlying asset.\n",
    "2. \"K\": strike price.\n",
    "3. \"T\": time in expiration (years).\n",
    "4. \"r\": risk-free interest rate.\n",
    "5. \"sigma\": volatility of the underlying asset.\n",
    "6. \"option_type\": either \"call\" or \"put\".\n",
    "\n",
    "**Methods:**\n",
    "1. \"get_price()\": Calls the appropriate pricing method based on the \"option_type\"."
   ]
  },
  {
   "cell_type": "code",
   "execution_count": 3,
   "id": "815d059d-2f9d-43dc-8bba-156c86a92853",
   "metadata": {},
   "outputs": [],
   "source": [
    "class OptionPricer:\n",
    "    def __init__(self, S, K, T, r, sigma, option_type):\n",
    "        self.S = S\n",
    "        self.K = K\n",
    "        self.T = T\n",
    "        self.r = r\n",
    "        self.sigma = sigma\n",
    "        if option_type.lower() not in [\"call\", \"put\"]:\n",
    "            raise ValueError(\"option_type must be either 'call' or 'put'\")\n",
    "        self.option_type = option_type.lower()\n",
    "\n",
    "    def get_price(self):\n",
    "        if self.option_type == \"call\":\n",
    "            return self.call_price()\n",
    "        elif self.option_type == \"put\":\n",
    "            return self.put_price()\n"
   ]
  },
  {
   "cell_type": "markdown",
   "id": "f8e15458-67b1-48c7-bc08-c8db2f9ad35a",
   "metadata": {},
   "source": [
    "**\"Black_Scholes\"** is a subclass of **\"OptionPricer\"** that implements the Black-Scholes formula for European options.\n",
    "\n",
    "The parameters $d_1$ and $d_2$ are defined as:\n",
    "\n",
    "$$\n",
    "d_1 = \\frac{\\ln\\left(\\frac{S}{K}\\right) + \\left(r + \\frac{\\sigma^2}{2}\\right) T}{\\sigma \\sqrt{T}}\n",
    "$$\n",
    "\n",
    "$$\n",
    "d_2 = d_1 - \\sigma \\sqrt{T}\n",
    "$$\n",
    "\n",
    "The call option price is:\n",
    "\n",
    "$$\n",
    "C = S \\cdot N(d_1) - K e^{-rT} \\cdot N(d_2)\n",
    "$$\n",
    "\n",
    "The put option price is:\n",
    "\n",
    "$$\n",
    "P = K e^{-rT} \\cdot N(-d_2) - S \\cdot N(-d_1)\n",
    "$$"
   ]
  },
  {
   "cell_type": "code",
   "execution_count": 6,
   "id": "8d1cca49-eaa9-4b14-936c-3268fb70aa4d",
   "metadata": {},
   "outputs": [],
   "source": [
    "class Black_Scholes(OptionPricer):\n",
    "    def get_params(self):\n",
    "        d1 = (np.log(self.S / self.K) + (self.r + 0.5 * self.sigma ** 2) * self.T) / (self.sigma * np.sqrt(self.T))\n",
    "        d2 = d1 - self.sigma * np.sqrt(self.T)\n",
    "        return d1, d2\n",
    "        \n",
    "    def call_price(self):\n",
    "        d1, d2 = self.get_params()\n",
    "        call_price = self.S * norm.cdf(d1) - self.K * np.exp(-self.r * self.T) * norm.cdf(d2)\n",
    "        return call_price\n",
    "\n",
    "    def put_price(self):\n",
    "        d1, d2 = self.get_params()\n",
    "        put_price = self.K * np.exp(-self.r * self.T) * norm.cdf(-d2) - self.S * norm.cdf(-d1)\n",
    "        return put_price"
   ]
  },
  {
   "cell_type": "markdown",
   "id": "b94faf85-7946-4326-9bb5-78bbefa1c552",
   "metadata": {},
   "source": [
    "Example usage of Black-Scholes Model:"
   ]
  },
  {
   "cell_type": "code",
   "execution_count": 7,
   "id": "46d74e06-8449-4d9f-8e1e-12b2b7b1daea",
   "metadata": {},
   "outputs": [
    {
     "name": "stdout",
     "output_type": "stream",
     "text": [
      "European Call Option Price: 10.45\n",
      "European Put Option Price: 5.57\n"
     ]
    }
   ],
   "source": [
    "option = Black_Scholes(S=100, K=100, T=1, r=0.05, sigma=0.2, option_type=\"call\")\n",
    "\n",
    "print(\"European Call Option Price:\", round(option.call_price(), 2))\n",
    "print(\"European Put Option Price:\", round(option.put_price(), 2)) "
   ]
  }
 ],
 "metadata": {
  "kernelspec": {
   "display_name": "Python [conda env:bs-model]",
   "language": "python",
   "name": "conda-env-bs-model-py"
  },
  "language_info": {
   "codemirror_mode": {
    "name": "ipython",
    "version": 3
   },
   "file_extension": ".py",
   "mimetype": "text/x-python",
   "name": "python",
   "nbconvert_exporter": "python",
   "pygments_lexer": "ipython3",
   "version": "3.10.18"
  }
 },
 "nbformat": 4,
 "nbformat_minor": 5
}
