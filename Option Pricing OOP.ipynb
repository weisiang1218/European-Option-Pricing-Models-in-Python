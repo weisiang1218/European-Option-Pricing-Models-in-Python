{
 "cells": [
  {
   "cell_type": "markdown",
   "id": "7878040c-62d4-45ab-932b-f113e5b33b29",
   "metadata": {},
   "source": [
    "<font size=\"5\"><b>Option Pricing Models in Python</b></font>\n",
    "\n",
    "This project implements two **European Option Pricing Models** using Object-Oriented Programming (OOP):\n",
    "1. **Black-Scholes Model**\n",
    "2. **Binomial Tree Model**"
   ]
  },
  {
   "cell_type": "code",
   "execution_count": 3,
   "id": "815d059d-2f9d-43dc-8bba-156c86a92853",
   "metadata": {},
   "outputs": [],
   "source": [
    "import numpy as np\n",
    "from scipy.stats import norm\n",
    "\n",
    "\n",
    "class OptionPricer:\n",
    "    def __init__(self, S, K, T, r, sigma, option_type):\n",
    "        self.S = S\n",
    "        self.K = K\n",
    "        self.T = T\n",
    "        self.r = r\n",
    "        self.sigma = sigma\n",
    "        if option_type.lower() not in [\"call\", \"put\"]:\n",
    "            raise ValueError(\"option_type must be either 'call' or 'put'\")\n",
    "        self.option_type = option_type.lower()\n",
    "\n",
    "    def get_price(self):\n",
    "        if self.option_type == \"call\":\n",
    "            return self.call_price()\n",
    "        elif self.option_type == \"put\":\n",
    "            return self.put_price()\n"
   ]
  },
  {
   "cell_type": "code",
   "execution_count": 4,
   "id": "8d1cca49-eaa9-4b14-936c-3268fb70aa4d",
   "metadata": {},
   "outputs": [
    {
     "name": "stdout",
     "output_type": "stream",
     "text": [
      "European Call Option Price: 10.45\n",
      "European Put Option Price: 5.57\n"
     ]
    }
   ],
   "source": [
    "class Black_Scholes(OptionPricer):\n",
    "    def get_params(self):\n",
    "        d1 = (np.log(self.S / self.K) + (self.r + 0.5 * self.sigma ** 2) * self.T) / (self.sigma * np.sqrt(self.T))\n",
    "        d2 = d1 - self.sigma * np.sqrt(self.T)\n",
    "        return d1, d2\n",
    "        \n",
    "    def call_price(self):\n",
    "        d1, d2 = self.get_params()\n",
    "        call_price = self.S * norm.cdf(d1) - self.K * np.exp(-self.r * self.T) * norm.cdf(d2)\n",
    "        return call_price\n",
    "\n",
    "    def put_price(self):\n",
    "        d1, d2 = self.get_params()\n",
    "        put_price = self.K * np.exp(-self.r * self.T) * norm.cdf(-d2) - self.S * norm.cdf(-d1)\n",
    "        return put_price\n",
    "\n",
    "\n",
    "option = Black_Scholes(S=100, K=100, T=1, r=0.05, sigma=0.2, option_type=\"call\")\n",
    "print(\"European Call Option Price:\", round(option.call_price(), 2))\n",
    "print(\"European Put Option Price:\", round(option.put_price(), 2)) \n"
   ]
  },
  {
   "cell_type": "code",
   "execution_count": 5,
   "id": "701a9f18-bd3b-48b9-bacc-c2be959c4a22",
   "metadata": {},
   "outputs": [
    {
     "name": "stdout",
     "output_type": "stream",
     "text": [
      "European Call Option Price: 10.43\n",
      "European Put Option Price: 5.55\n"
     ]
    }
   ],
   "source": [
    "class Binomial(OptionPricer):\n",
    "    def __init__(self, S, K, T, r, sigma, n, option_type):\n",
    "        super().__init__(S, K, T, r, sigma, option_type)\n",
    "        self.n = n\n",
    "\n",
    "    def get_params(self):\n",
    "        deltaT = self.T / self.n\n",
    "        u = np.exp(self.sigma * np.sqrt(deltaT))\n",
    "        d = 1 / u\n",
    "        p = (np.exp(self.r * deltaT) - d) / (u - d)\n",
    "        q = 1 - p\n",
    "        return deltaT, u, d, p, q\n",
    "\n",
    "    def call_price(self):\n",
    "        deltaT, u, d, p, q = self.get_params()\n",
    "        prices = np.array([self.S * u**i * d**(self.n - i) for i in range(self.n + 1)])\n",
    "        V = np.maximum(0, prices - self.K)\n",
    "        for i in range(self.n - 1, -1, -1):\n",
    "            V = np.exp(-self.r * deltaT) * (p * V[1:] + q * V[:-1]) \n",
    "        return V[0]\n",
    "\n",
    "    def put_price(self):\n",
    "        deltaT, u, d, p, q = self.get_params()\n",
    "        prices = np.array([self.S * u**i * d**(self.n - i) for i in range(self.n + 1)])\n",
    "        V = np.maximum(0, self.K - prices)\n",
    "        for i in range(self.n - 1, -1, -1):\n",
    "            V = np.exp(-self.r * deltaT) * (p * V[1:] + q * V[:-1]) \n",
    "        return V[0]\n",
    "       \n",
    "option = Binomial(S=100, K=100, T=1, r=0.05, sigma=0.2, n=100, option_type=\"call\")\n",
    "print(\"European Call Option Price:\", round(option.call_price(), 2))\n",
    "print(\"European Put Option Price:\", round(option.put_price(), 2)) \n"
   ]
  }
 ],
 "metadata": {
  "kernelspec": {
   "display_name": "Python [conda env:bs-model]",
   "language": "python",
   "name": "conda-env-bs-model-py"
  },
  "language_info": {
   "codemirror_mode": {
    "name": "ipython",
    "version": 3
   },
   "file_extension": ".py",
   "mimetype": "text/x-python",
   "name": "python",
   "nbconvert_exporter": "python",
   "pygments_lexer": "ipython3",
   "version": "3.10.18"
  }
 },
 "nbformat": 4,
 "nbformat_minor": 5
}
